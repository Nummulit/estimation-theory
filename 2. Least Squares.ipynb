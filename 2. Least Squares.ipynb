{
 "cells": [
  {
   "cell_type": "code",
   "execution_count": 1,
   "metadata": {},
   "outputs": [],
   "source": [
    "import numpy as np\n",
    "import matplotlib\n",
    "import matplotlib.pyplot as plt\n",
    "import pandas as pd"
   ]
  },
  {
   "cell_type": "code",
   "execution_count": 81,
   "metadata": {},
   "outputs": [],
   "source": [
    "matplotlib.rcParams['figure.figsize'] = [12, 10]\n",
    "# matplotlib.rcParams['figure.dpi'] = 200\n",
    "matplotlib.rc('font', family='Lato', size=12)"
   ]
  },
  {
   "cell_type": "markdown",
   "metadata": {},
   "source": [
    "### Exercise 1 - LS estimator of a linear model\n",
    "Use the data file `data_lab_2.xlsx` from the webstie. The first column of the data set is the dependent variable $Y$, whereas the remaining columns descibe the explanatory variables $X$. Let's assume that\n",
    "\n",
    "$$\n",
    "y_n = x_n \\alpha + u_n \\text, \\quad \\text{for } n = 1, \\dots, N\n",
    "$$\n",
    "\n",
    "Suppose, the loss function is\n",
    "\n",
    "$$\n",
    "L = \\sum_{n=1}^N u_n^2 \\text.\n",
    "$$"
   ]
  },
  {
   "cell_type": "markdown",
   "metadata": {},
   "source": [
    "#### 1.1\n",
    "Express the loss function, $L$ as a function of $Y$, $X$ and $\\alpha$."
   ]
  },
  {
   "cell_type": "markdown",
   "metadata": {},
   "source": [
    "**Answer:** Rearranging the first equation and supplying to the definition of the loss function $L$ we obtain\n",
    "\n",
    "$$\n",
    "L = \\sum_{n=1}^N \\left( y_n - x_n \\alpha \\right)^2\n",
    "\\text.\n",
    "$$"
   ]
  },
  {
   "cell_type": "markdown",
   "metadata": {},
   "source": [
    "#### 1.2\n",
    "Derive the first derivative of the function $L$ with respect to the vector of parameters $\\alpha$ as a function of $Y$, $X$ and $\\alpha$."
   ]
  },
  {
   "cell_type": "markdown",
   "metadata": {},
   "source": [
    "**Answer:** \n",
    "\n",
    "$$\n",
    "\\frac{\\partial}{\\partial\\alpha} L  = \n",
    "\\frac{\\partial}{\\partial\\alpha} \\sum_{n=1}^N \\left( y_n - x_n \\alpha  \\right) ^ 2 =\n",
    "- 2 \\sum_{n=1}^N x_n( y_n - \\alpha x_n)\n",
    "\\text.\n",
    "$$"
   ]
  },
  {
   "cell_type": "markdown",
   "metadata": {},
   "source": [
    "#### 1.3 \n",
    "Since the estimator minimize $L$, write down the relevant First Order Condintion. What is the LS esitmator of the model parameters?"
   ]
  },
  {
   "cell_type": "markdown",
   "metadata": {},
   "source": [
    "**Answer:**\n",
    "We write down the first order condition for $\\alpha$, i.e.\n",
    "\n",
    "$$\n",
    "\\frac{\\partial}{\\partial\\alpha} L = 0\n",
    "$$\n",
    "\n",
    "thus\n",
    "\n",
    "$$\n",
    "- 2 \\sum_{n=1}^N x_n ( y_n - x_n \\alpha) = 0\n",
    "\\text.\n",
    "$$\n",
    "\n",
    "Dividing by $-2$ and splitting the sum we obtain\n",
    "\n",
    "$$\n",
    "\\sum_{n=1}^N x_n y_n - \\sum_{n=1}^N  x_n^2 \\alpha = 0\n",
    "$$\n",
    "\n",
    "and from the above we get\n",
    "\n",
    "$$\n",
    "\\alpha = \\frac{\\sum_{n=1}^N  x_n y_n}{\\sum_{n=1}^N x_n^2}\n",
    "\\text.\n",
    "$$"
   ]
  },
  {
   "cell_type": "markdown",
   "metadata": {},
   "source": [
    "#### 1.4\n",
    "<p style=\"background-color:rgba(255, 215, 0, 0.3); border:2px solid gold; padding: 10px; border-radius: 10px;\">\n",
    "If the resudials are uncorrelated and homoscedastic, what is the variance-covariance matrix of the estimator $\\sqrt N \\hat\\alpha$, where $N$ is the sample size?\n",
    "</p>    "
   ]
  },
  {
   "cell_type": "markdown",
   "metadata": {},
   "source": [
    "..."
   ]
  },
  {
   "cell_type": "markdown",
   "metadata": {},
   "source": [
    "### Exercise 2 - a linera model with restrictions\n",
    "Use the data and model specification from Exercise 1. Suppose, you know that $\\alpha_1 + \\alpha_2 + \\alpha_3 = 0$ and $\\alpha_2 - \\alpha_3 = 0$."
   ]
  },
  {
   "cell_type": "markdown",
   "metadata": {},
   "source": [
    "#### 2.1\n",
    "Write down the restriciton matrix. What is the rank of this matrix?"
   ]
  },
  {
   "cell_type": "markdown",
   "metadata": {},
   "source": [
    "**Answer:**\n",
    "We have that\n",
    "\n",
    "$$\n",
    "\\alpha = \n",
    "\\begin{bmatrix}\n",
    "\\alpha_1 \\\\\n",
    "\\alpha_2 \\\\\n",
    "\\alpha_3 \\\\\n",
    "\\end{bmatrix}\n",
    "\\text.\n",
    "$$\n",
    "\n",
    "And we can write above restrictions as:\n",
    "\n",
    "$$\n",
    "\\begin{bmatrix}\n",
    "0 \\\\\n",
    "0\n",
    "\\end{bmatrix}= \n",
    "\\begin{bmatrix}\n",
    "1 & 1 & 1 \\\\\n",
    "0 & 1 & -1 \\\\\n",
    "\\end{bmatrix}\n",
    "\\begin{bmatrix}\n",
    "\\alpha_1 \\\\\n",
    "\\alpha_2 \\\\\n",
    "\\alpha_3 \\\\\n",
    "\\end{bmatrix}\n",
    "$$\n",
    "\n",
    "We can clearly see that we are dealing with two lineray independent vectors so the rank of the restrictions matrix is equal to $2$."
   ]
  },
  {
   "cell_type": "markdown",
   "metadata": {},
   "source": [
    "#### 2.2\n",
    "Express the vector $\\alpha$ and the loss function $L$ as a functions of $\\alpha_3$."
   ]
  },
  {
   "cell_type": "markdown",
   "metadata": {},
   "source": [
    "**Answer:** Rearraning the restrictions we get\n",
    "$$\n",
    "\\alpha_2 = \\alpha_3\n",
    "$$\n",
    "$$\n",
    "\\alpha_1 = -\\alpha_2 - \\alpha_3 = -2\\alpha_3\n",
    "$$\n",
    "so we can write\n",
    "$$\n",
    "\\alpha = \n",
    "\\begin{bmatrix}\n",
    "-2 \\alpha_3 \\\\\n",
    "\\alpha_3 \\\\\n",
    "\\alpha_3 \\\\\n",
    "\\end{bmatrix}\n",
    "\\text.\n",
    "$$"
   ]
  },
  {
   "cell_type": "markdown",
   "metadata": {},
   "source": [
    "Supplying above to the $L$ loss function we get\n",
    "\n",
    "$$\n",
    "L = \\sum_{n=1}^N \\left( y_n + 2\\alpha_3 x_{1n} - \\alpha_3 x_{2n} - \\alpha_3 x_{3n} \\right) ^ 2 =\n",
    "\\sum_{n=1}^N \\left( y_n + \\alpha_3 (2x_{1n} - x_{2n} - x_{3n}) \\right) ^ 2\n",
    "\\text.\n",
    "$$"
   ]
  },
  {
   "cell_type": "markdown",
   "metadata": {},
   "source": [
    "#### 2.3\n",
    "Estimate $\\alpha_3$ with the LS method. \n",
    "<span style=\"background-color:rgba(255, 215, 0, 0.3); border: 2px solid gold; padding: 5px 10px; border-radius: 5px;\">\n",
    "    Compute its variance-covariance matrix. What is the estimator of $\\alpha$?\n",
    "</span>"
   ]
  },
  {
   "cell_type": "markdown",
   "metadata": {},
   "source": [
    "**Answer:**\n",
    "\n",
    "$$\n",
    "\\frac{\\partial}{\\partial\\alpha_3} L  = \n",
    "\\frac{\\partial}{\\partial\\alpha_3} \\sum_{n=1}^N \\left( y_n + \\alpha_3 (2x_{1n} - x_{2n} - x_{3n}) \\right) ^ 2 = \n",
    "\\sum_{n=1}^N 2 (2x_{1n} - x_{2n} - x_{3n}) \\left( y_n + \\alpha_3 (2x_{1n} - x_{2n} - x_{3n}) \\right) = \\\\\n",
    "= 2 \\sum_{n=1}^N y_n (2x_{1n} - x_{2n} - x_{3n}) + \\alpha_3 \\sum_{n=1}^N (2x_{1n} - x_{2n} - x_{3n})^2\n",
    "\\text.\n",
    "$$\n",
    "\n",
    "We compare the above to zero\n",
    "\n",
    "$$\n",
    "2 \\sum_{n=1}^N y_n (2x_{1n} - x_{2n} - x_{3n}) + \\alpha_3 \\sum_{n=1}^N (2x_{1n} - x_{2n} - x_{3n})^2 = 0\n",
    "$$\n",
    "\n",
    "and obtain\n",
    "\n",
    "$$\n",
    "\\alpha_3 = \\frac{-2 \\sum_{n=1}^N y_n (2x_{1n} - x_{2n} - x_{3n})}{\\sum_{n=1}^N (2x_{1n} - x_{2n} - x_{3n})^2}\n",
    "\\text.\n",
    "$$"
   ]
  },
  {
   "cell_type": "markdown",
   "metadata": {},
   "source": [
    "### Exercise 3 - partial LS\n",
    "Lets consider a model\n",
    "\n",
    "$$\n",
    "y_n = \\alpha_1 x_{1n} + \\alpha_2 x_{2n} + \\epsilon_n\n",
    "$$\n",
    "\n",
    "with $\\alpha_1 = \\alpha_2 = 1$ and $\\epsilon_n \\sim \\mathcal N(0, 1)$."
   ]
  },
  {
   "cell_type": "markdown",
   "metadata": {},
   "source": [
    "#### 3.1\n",
    "Generate a sample of $Y$ for (a) $X_1$ and $X_2$ independent: $X \\sim \\mathcal N(0, I_2)$, (b) for $X_1$ and $X_2$ dependent: $X \\sim \\mathcal N(0, \\Sigma)$ for $\\Sigma = [1, \\rho; \\rho, 1]$, $\\rho = 0.6$."
   ]
  },
  {
   "cell_type": "markdown",
   "metadata": {},
   "source": [
    "**Answer:**"
   ]
  },
  {
   "cell_type": "markdown",
   "metadata": {},
   "source": [
    "At the beginning we generate $X_A$ and $X_B$"
   ]
  },
  {
   "cell_type": "code",
   "execution_count": 3,
   "metadata": {},
   "outputs": [],
   "source": [
    "SAMPLE_SIZE = 1000\n",
    "# (a)\n",
    "x_a = np.random.multivariate_normal(mean=np.zeros(2), cov=[[1, 0], [0, 1]], size=SAMPLE_SIZE)\n",
    "# (b)\n",
    "RHO = 0.6\n",
    "x_b = np.random.multivariate_normal(mean=np.zeros(2), cov=[[1, RHO], [RHO, 1]], size=SAMPLE_SIZE)"
   ]
  },
  {
   "cell_type": "markdown",
   "metadata": {},
   "source": [
    "and the errors $\\epsilon_n$"
   ]
  },
  {
   "cell_type": "code",
   "execution_count": 4,
   "metadata": {},
   "outputs": [],
   "source": [
    "epsilon = np.random.normal(size=SAMPLE_SIZE)"
   ]
  },
  {
   "cell_type": "markdown",
   "metadata": {},
   "source": [
    "To calculate corresponding $Y_A$ and $Y_B$ we will rewrite the initial model into matrix/vector form to both simplify and speed up the implementation. \n",
    "\n",
    "We have \n",
    "\n",
    "$$\n",
    "Y = X \\alpha + \\epsilon\n",
    "$$\n",
    "where\n",
    "$$\n",
    "Y \\in \\mathbf R^{N \\times 1} \\\\\n",
    "X \\in \\mathbf R^{N \\times 2} \\\\\n",
    "\\alpha \\in \\mathbf R^{2 \\times 1} \\\\\n",
    "\\epsilon \\in \\mathbf R^{N \\times 1} \\\\\n",
    "$$\n",
    "and $N$ is the sample size."
   ]
  },
  {
   "cell_type": "code",
   "execution_count": 5,
   "metadata": {},
   "outputs": [],
   "source": [
    "ALPHA = np.array([1, 1])"
   ]
  },
  {
   "cell_type": "code",
   "execution_count": 6,
   "metadata": {},
   "outputs": [],
   "source": [
    "y_a = np.dot(x_a, ALPHA) + epsilon\n",
    "y_b = np.dot(x_b, ALPHA) + epsilon"
   ]
  },
  {
   "cell_type": "markdown",
   "metadata": {},
   "source": [
    "To see difference in the random variables we also generate theirs histograms."
   ]
  },
  {
   "cell_type": "code",
   "execution_count": 7,
   "metadata": {},
   "outputs": [
    {
     "data": {
      "image/png": "[encoded data removed]",
      "text/plain": [
       "<Figure size 864x432 with 1 Axes>"
      ]
     },
     "metadata": {
      "needs_background": "light"
     },
     "output_type": "display_data"
    }
   ],
   "source": [
    "plt.hist(y_a, bins=30, density=True, histtype='step', color='gold')\n",
    "plt.hist(y_a, bins=30, density=True, alpha=0.3, color='gold', label=\"$Y_A$\")\n",
    "plt.hist(y_b, bins=30, density=True, histtype='step', color='darkred')\n",
    "plt.hist(y_b, bins=30, density=True,alpha=0.3, color='darkred', label=\"$Y_B$\")\n",
    "plt.grid(alpha=0.3)\n",
    "plt.legend()\n",
    "plt.show()"
   ]
  },
  {
   "cell_type": "markdown",
   "metadata": {},
   "source": [
    "#### 3.2\n",
    "Estimate the parameter $\\alpha_1$ in the true model: $y_n = \\alpha_1 x_{1n} + \\alpha_2 x_{2n} + \\epsilon_n$ and a corresponding parameter $\\beta$ in a miss-specified model: $y_n = \\beta x_{1n} + u_n$."
   ]
  },
  {
   "cell_type": "markdown",
   "metadata": {},
   "source": [
    "**Answer:**"
   ]
  },
  {
   "cell_type": "markdown",
   "metadata": {},
   "source": [
    "<p class=\"note\">Elo</p>"
   ]
  },
  {
   "cell_type": "markdown",
   "metadata": {},
   "source": [
    "<p class=\"warning\">Morelo</p>"
   ]
  },
  {
   "cell_type": "markdown",
   "metadata": {},
   "source": [
    "<span style=\"background-color: rgba(255, 0, 0, 0.3); padding: 10px;\">Finish this properly. Either redo everything in matrix/vector terms or do something else!</span>"
   ]
  },
  {
   "cell_type": "code",
   "execution_count": 8,
   "metadata": {},
   "outputs": [],
   "source": [
    "alpha_a = np.linalg.inv(x_a.T @ x_a) @ (y_a.T @ x_a)"
   ]
  },
  {
   "cell_type": "code",
   "execution_count": 9,
   "metadata": {},
   "outputs": [
    {
     "data": {
      "text/plain": [
       "array([0.99602181, 0.98406938])"
      ]
     },
     "execution_count": 9,
     "metadata": {},
     "output_type": "execute_result"
    }
   ],
   "source": [
    "alpha_a"
   ]
  },
  {
   "cell_type": "code",
   "execution_count": 10,
   "metadata": {},
   "outputs": [],
   "source": [
    "alpha_b = np.linalg.inv(x_b.T @ x_b) @ (y_b.T @ x_b)"
   ]
  },
  {
   "cell_type": "code",
   "execution_count": 11,
   "metadata": {},
   "outputs": [
    {
     "data": {
      "text/plain": [
       "array([1.0208751 , 0.96150618])"
      ]
     },
     "execution_count": 11,
     "metadata": {},
     "output_type": "execute_result"
    }
   ],
   "source": [
    "alpha_b"
   ]
  },
  {
   "cell_type": "markdown",
   "metadata": {},
   "source": [
    "Second case: estimation of the parameter $\\beta$ in a miss-specified model."
   ]
  },
  {
   "cell_type": "code",
   "execution_count": 12,
   "metadata": {},
   "outputs": [],
   "source": [
    "# Becauce of 1 dimension the inverse simpliefies to standard division.\n",
    "beta_a = (y_a.T @ x_a[:, 0]) / (x_a[:, 0].T @ x_a[:, 0])"
   ]
  },
  {
   "cell_type": "code",
   "execution_count": 13,
   "metadata": {},
   "outputs": [
    {
     "data": {
      "text/plain": [
       "1.0469457564039104"
      ]
     },
     "execution_count": 13,
     "metadata": {},
     "output_type": "execute_result"
    }
   ],
   "source": [
    "beta_a"
   ]
  },
  {
   "cell_type": "code",
   "execution_count": 14,
   "metadata": {},
   "outputs": [],
   "source": [
    "beta_b = (y_b.T @ x_b[:, 0]) / (x_b[:, 0].T @ x_b[:, 0])"
   ]
  },
  {
   "cell_type": "code",
   "execution_count": 15,
   "metadata": {},
   "outputs": [
    {
     "data": {
      "text/plain": [
       "1.5503082120306517"
      ]
     },
     "execution_count": 15,
     "metadata": {},
     "output_type": "execute_result"
    }
   ],
   "source": [
    "beta_b"
   ]
  },
  {
   "cell_type": "markdown",
   "metadata": {},
   "source": [
    "#### 3.3\n",
    "Compare the true value of $\\alpha_1$ with its estimators: $\\hat\\alpha_1$ and $\\hat\\beta$ for two cases (a) and (b) and different sample sizes: $N=10$, $100$ and $1000$."
   ]
  },
  {
   "cell_type": "markdown",
   "metadata": {},
   "source": [
    "**Answer:**\n",
    "To be able to repeat the simulations we will enclose previous steps into simple functions"
   ]
  },
  {
   "cell_type": "code",
   "execution_count": 16,
   "metadata": {},
   "outputs": [],
   "source": [
    "def estimate_alpha_beta(cov, size):\n",
    "    x = np.random.multivariate_normal(mean=np.zeros(2), cov=[[1, 0], [0, 1]], size=size)\n",
    "    epsilon = np.random.normal(size=size)\n",
    "    y = x @ ALPHA + epsilon\n",
    "    alpha = np.linalg.inv(x.T @ x) @ (y.T @ x)\n",
    "    beta = (y.T @ x[:, 0]) / (x[:, 0].T @ x[:, 0])\n",
    "    return alpha, beta"
   ]
  },
  {
   "cell_type": "code",
   "execution_count": 64,
   "metadata": {},
   "outputs": [],
   "source": [
    "alpha_1_a = []\n",
    "beta_a = []\n",
    "alpha_1_b = []\n",
    "beta_b = []\n",
    "# sizes = np.logspace(1, 3, num=30, dtype=np.int)\n",
    "sizes = np.linspace(10, 1000, num=50, dtype=np.int)\n",
    "for n in sizes:\n",
    "    # Case (a)\n",
    "    alpha, beta = estimate_alpha_beta(cov=[[1, 0], [0, 1]], size=n)\n",
    "    alpha_1_a.append(alpha[0])\n",
    "    beta_a.append(beta)\n",
    "    # Case (b)\n",
    "    alpha, beta = estimate_alpha_beta(cov=[[1, RHO], [RHO, 1]], size=n)\n",
    "    alpha_1_b.append(alpha[0])\n",
    "    beta_b.append(beta)"
   ]
  },
  {
   "cell_type": "code",
   "execution_count": 84,
   "metadata": {},
   "outputs": [
    {
     "data": {
      "image/png": "[encoded data removed]",
      "text/plain": [
       "<Figure size 864x720 with 2 Axes>"
      ]
     },
     "metadata": {
      "needs_background": "light"
     },
     "output_type": "display_data"
    }
   ],
   "source": [
    "# Case (a) plot\n",
    "plt.subplot(2, 1, 1)\n",
    "plt.plot(sizes, ALPHA[0] * np.ones_like(sizes), 'k', alpha=0.7, label=r\"$\\alpha = 1$\")\n",
    "plt.plot(sizes, alpha_1_a, 'o', color=\"tab:blue\", alpha=0.5, label=r\"(a) $\\hat\\alpha_1$\")\n",
    "plt.plot(sizes, alpha_1_a, ':', color=\"tab:blue\", alpha=0.5)\n",
    "plt.plot(sizes, beta_a, 'o', color=\"tab:orange\", alpha=0.5, label=r\"(a) $\\hat\\beta$\")\n",
    "plt.plot(sizes, beta_a, ':', color=\"tab:orange\", alpha=0.5)\n",
    "plt.grid(alpha=0.3)\n",
    "plt.xlabel(\"Sample size\")\n",
    "plt.ylabel(\"Estimated value\")\n",
    "plt.title(\"Case (a)\")\n",
    "plt.legend()\n",
    "# Case (b) plot\n",
    "plt.subplot(2, 1, 2)\n",
    "plt.plot(sizes, ALPHA[0] * np.ones_like(sizes), 'k', alpha=0.7, label=r\"$\\alpha = 1$\")\n",
    "plt.plot(sizes, alpha_1_b, 'o', color=\"tab:blue\", alpha=0.5, label=r\"(b) $\\hat\\alpha_1$\")\n",
    "plt.plot(sizes, alpha_1_b, ':', color=\"tab:blue\", alpha=0.5)\n",
    "plt.plot(sizes, beta_b, 'o', color=\"tab:orange\", alpha=0.5, label=r\"(b) $\\hat\\beta$\")\n",
    "plt.plot(sizes, beta_b, ':', color=\"tab:orange\", alpha=0.5)\n",
    "plt.grid(alpha=0.3)\n",
    "plt.xlabel(\"Sample size\")\n",
    "plt.ylabel(\"Estimated value\")\n",
    "plt.title(\"Case (b)\")\n",
    "plt.legend()\n",
    "\n",
    "plt.tight_layout()\n",
    "plt.show()"
   ]
  },
  {
   "cell_type": "markdown",
   "metadata": {},
   "source": [
    "#### 3.4\n",
    "What can you say about consistency of the estimators? Why in one case the estimator $\\hat\\beta$ is consistent and in other case not? Comment."
   ]
  },
  {
   "cell_type": "markdown",
   "metadata": {},
   "source": [
    "**Answer:**"
   ]
  },
  {
   "cell_type": "markdown",
   "metadata": {},
   "source": [
    "#### 3.5\n",
    "Compare the true value of $\\alpha_1$ with its estimators: $\\hat\\alpha_1$ and $\\hat\\beta$ for $N = 1000$ and different correlation levels (defined at the beginning oof this exercise): $\\rho = 0.3$, $0.6$ and $0.9$."
   ]
  },
  {
   "cell_type": "markdown",
   "metadata": {},
   "source": [
    "**Answer:**"
   ]
  },
  {
   "cell_type": "markdown",
   "metadata": {
    "hideOutput": true
   },
   "source": []
  },
  {
   "cell_type": "markdown",
   "metadata": {
    "hideOutput": true
   },
   "source": []
  },
  {
   "cell_type": "markdown",
   "metadata": {},
   "source": [
    "# Coding sandbox"
   ]
  },
  {
   "cell_type": "code",
   "execution_count": 18,
   "metadata": {},
   "outputs": [],
   "source": [
    "df = pd.read_excel('data_lab_2.xlsx', header=None)"
   ]
  },
  {
   "cell_type": "code",
   "execution_count": 19,
   "metadata": {},
   "outputs": [
    {
     "data": {
      "text/plain": [
       "(100, 4)"
      ]
     },
     "execution_count": 19,
     "metadata": {},
     "output_type": "execute_result"
    }
   ],
   "source": [
    "df.shape"
   ]
  },
  {
   "cell_type": "code",
   "execution_count": 20,
   "metadata": {},
   "outputs": [],
   "source": [
    "df.columns = [\"Y\", \"X1\", \"X2\", \"X3\"]"
   ]
  },
  {
   "cell_type": "code",
   "execution_count": 21,
   "metadata": {
    "scrolled": true
   },
   "outputs": [
    {
     "data": {
      "text/html": [
       "<div>\n",
       "<style scoped>\n",
       "    .dataframe tbody tr th:only-of-type {\n",
       "        vertical-align: middle;\n",
       "    }\n",
       "\n",
       "    .dataframe tbody tr th {\n",
       "        vertical-align: top;\n",
       "    }\n",
       "\n",
       "    .dataframe thead th {\n",
       "        text-align: right;\n",
       "    }\n",
       "</style>\n",
       "<table border=\"1\" class=\"dataframe\">\n",
       "  <thead>\n",
       "    <tr style=\"text-align: right;\">\n",
       "      <th></th>\n",
       "      <th>Y</th>\n",
       "      <th>X1</th>\n",
       "      <th>X2</th>\n",
       "      <th>X3</th>\n",
       "    </tr>\n",
       "  </thead>\n",
       "  <tbody>\n",
       "    <tr>\n",
       "      <td>0</td>\n",
       "      <td>8.301069</td>\n",
       "      <td>1.255952</td>\n",
       "      <td>4.007507</td>\n",
       "      <td>2.134730</td>\n",
       "    </tr>\n",
       "    <tr>\n",
       "      <td>1</td>\n",
       "      <td>13.394371</td>\n",
       "      <td>2.695934</td>\n",
       "      <td>3.754338</td>\n",
       "      <td>4.092859</td>\n",
       "    </tr>\n",
       "    <tr>\n",
       "      <td>2</td>\n",
       "      <td>13.841512</td>\n",
       "      <td>4.220832</td>\n",
       "      <td>3.336009</td>\n",
       "      <td>3.163189</td>\n",
       "    </tr>\n",
       "    <tr>\n",
       "      <td>3</td>\n",
       "      <td>13.633060</td>\n",
       "      <td>2.002327</td>\n",
       "      <td>5.399626</td>\n",
       "      <td>4.052547</td>\n",
       "    </tr>\n",
       "    <tr>\n",
       "      <td>4</td>\n",
       "      <td>13.214946</td>\n",
       "      <td>3.134454</td>\n",
       "      <td>4.915782</td>\n",
       "      <td>1.429284</td>\n",
       "    </tr>\n",
       "  </tbody>\n",
       "</table>\n",
       "</div>"
      ],
      "text/plain": [
       "           Y        X1        X2        X3\n",
       "0   8.301069  1.255952  4.007507  2.134730\n",
       "1  13.394371  2.695934  3.754338  4.092859\n",
       "2  13.841512  4.220832  3.336009  3.163189\n",
       "3  13.633060  2.002327  5.399626  4.052547\n",
       "4  13.214946  3.134454  4.915782  1.429284"
      ]
     },
     "execution_count": 21,
     "metadata": {},
     "output_type": "execute_result"
    }
   ],
   "source": [
    "df.head()"
   ]
  },
  {
   "cell_type": "code",
   "execution_count": null,
   "metadata": {},
   "outputs": [],
   "source": []
  },
  {
   "cell_type": "code",
   "execution_count": null,
   "metadata": {},
   "outputs": [],
   "source": []
  },
  {
   "cell_type": "code",
   "execution_count": 22,
   "metadata": {},
   "outputs": [
    {
     "data": {
      "image/png": "[encoded data removed]",
      "text/plain": [
       "<Figure size 864x432 with 3 Axes>"
      ]
     },
     "metadata": {
      "needs_background": "light"
     },
     "output_type": "display_data"
    }
   ],
   "source": [
    "plt.subplot(2, 2, 1)\n",
    "plt.grid(alpha=0.3)\n",
    "plt.plot(df[\"X1\"], df[\"Y\"], 'r.')\n",
    "plt.xlabel(\"$X_1$\")\n",
    "plt.ylabel(\"$Y$\")\n",
    "\n",
    "plt.subplot(2, 2, 2)\n",
    "plt.grid(alpha=0.3)\n",
    "plt.plot(df[\"X2\"], df[\"Y\"], 'r.')\n",
    "plt.xlabel(\"$X_2$\")\n",
    "plt.ylabel(\"$Y$\")\n",
    "\n",
    "plt.subplot(2, 2, 3)\n",
    "plt.grid(alpha=0.3)\n",
    "plt.plot(df[\"X3\"], df[\"Y\"], 'r.')\n",
    "plt.xlabel(\"$X_3$\")\n",
    "plt.ylabel(\"$Y$\")\n",
    "\n",
    "plt.tight_layout()\n",
    "plt.show()"
   ]
  }
 ],
 "metadata": {
  "kernelspec": {
   "display_name": "Python 3",
   "language": "python",
   "name": "python3"
  },
  "language_info": {
   "codemirror_mode": {
    "name": "ipython",
    "version": 3
   },
   "file_extension": ".py",
   "mimetype": "text/x-python",
   "name": "python",
   "nbconvert_exporter": "python",
   "pygments_lexer": "ipython3",
   "version": "3.7.3"
  }
 },
 "nbformat": 4,
 "nbformat_minor": 2
}
