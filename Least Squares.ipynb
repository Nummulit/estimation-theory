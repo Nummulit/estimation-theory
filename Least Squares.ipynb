{
 "cells": [
  {
   "cell_type": "markdown",
   "metadata": {},
   "source": [
    "### Exercise 1 - LS estimator of a linear model\n",
    "Use the data file `data_lab_2.xlsx` from the webstie. The first column of the data set is the dependent variable $Y$, whereas the remaining columns descibe the explanatory variables $X$. Let's assume that\n",
    "\n",
    "$$\n",
    "y_n = x_n \\alpha + u_n\n",
    "$$\n",
    "\n",
    "Suppose, the loss function is\n",
    "\n",
    "$$\n",
    "L = \\sum_{n=1}^N u_n^2 \\text.\n",
    "$$"
   ]
  },
  {
   "cell_type": "markdown",
   "metadata": {},
   "source": [
    "#### 1.1\n",
    "Express the loss function, $L$ as a function of $Y$, $X$ and $\\alpha$."
   ]
  },
  {
   "cell_type": "markdown",
   "metadata": {},
   "source": [
    "**Answer:** Rearranging the first equation and supplying to the definition of the loss function $L$ we obtain\n",
    "\n",
    "$$\n",
    "L = \\sum_{n=1}^N \\left( y_n - \\alpha x_n \\right)^2\n",
    "\\text.\n",
    "$$"
   ]
  },
  {
   "cell_type": "markdown",
   "metadata": {},
   "source": [
    "#### 1.2\n",
    "Derive the first derivative of the function $L$ with respect to the vector of parameters $\\alpha$ as a function of $Y$, $X$ and $\\alpha$."
   ]
  },
  {
   "cell_type": "markdown",
   "metadata": {},
   "source": [
    "**Answer:** \n",
    "\n",
    "$$\n",
    "\\frac{\\partial}{\\partial\\alpha} L  = \n",
    "\\frac{\\partial}{\\partial\\alpha} \\sum_{n=1}^N \\left( y_n - \\alpha x_n \\right) ^ 2 =\n",
    "- 2 \\alpha \\sum_{n=1}^N ( y_n - \\alpha x_n)\n",
    "\\text.\n",
    "$$"
   ]
  },
  {
   "cell_type": "markdown",
   "metadata": {},
   "source": [
    "#### 1.3 \n",
    "Since the estimator minimize $L$, write down the relevant First Order Condintion. What is the LS esitmator of the model parameters?"
   ]
  },
  {
   "cell_type": "markdown",
   "metadata": {},
   "source": [
    "**Answer:**\n",
    "We write down the first order condition for $\\alpha$, i.e.\n",
    "\n",
    "$$\n",
    "\\frac{\\partial}{\\partial\\alpha} L = 0\n",
    "$$\n",
    "\n",
    "thus\n",
    "\n",
    "$$\n",
    "- 2 \\alpha \\sum_{n=1}^N ( y_n - \\alpha x_n) = 0\n",
    "\\text.\n",
    "$$\n",
    "\n",
    "Dividing by $-2$ and splitting the sum we obtain\n",
    "\n",
    "$$\n",
    "\\alpha^2 \\sum_{n=1}^N x_n - \\alpha \\sum_{n=1}^N y_n = \n",
    "\\alpha \\left( \\alpha \\sum_{n=1}^N x_n - \\sum_{n=1}^N y_n \\right) = 0\n",
    "\\text.\n",
    "$$\n",
    "\n",
    "We have two solutions to the above equation. One trivial, $\\alpha=0$, and the second one\n",
    "\n",
    "$$\n",
    "\\alpha = \\sum_{n=1}^N \\frac{y_n}{x_n}\n",
    "\\text.\n",
    "$$"
   ]
  },
  {
   "cell_type": "markdown",
   "metadata": {},
   "source": [
    "#### 1.4\n",
    "<p style=\"background-color:rgba(255, 215, 0, 0.3); border:2px solid gold; padding: 10px; border-radius: 10px;\">\n",
    "If the resudials are uncorrelated and homoscedastic, what is the variance-covariance matrix of the estimator $\\sqrt N \\hat\\alpha$, where $N$ is the sample size?\n",
    "</p>    "
   ]
  },
  {
   "cell_type": "markdown",
   "metadata": {},
   "source": [
    "..."
   ]
  },
  {
   "cell_type": "markdown",
   "metadata": {},
   "source": [
    "### Exercise 2 - a linera model with restrictions\n",
    "Use the data and model specification from Exercise 1. Suppose, you know that $\\alpha_1 + \\alpha_2 + \\alpha_3 = 0$ and $\\alpha_2 - \\alpha_3 = 0$."
   ]
  },
  {
   "cell_type": "markdown",
   "metadata": {},
   "source": [
    "#### 2.1\n",
    "Write down the restriciton matrix. What is the rank of this matrix?"
   ]
  },
  {
   "cell_type": "markdown",
   "metadata": {},
   "source": [
    "**Answer:**\n"
   ]
  },
  {
   "cell_type": "markdown",
   "metadata": {},
   "source": [
    "#### 2.2\n",
    "Express the vector $\\alpha$ and the loss function $L$ as a functions of $\\alpha_3$."
   ]
  },
  {
   "cell_type": "markdown",
   "metadata": {},
   "source": [
    "**Answer:**"
   ]
  },
  {
   "cell_type": "markdown",
   "metadata": {},
   "source": [
    "#### 2.3\n",
    "Estimate $\\alpha_3$ with the LS method. Compute its variance-covariance matrix. What is the estimator of $\\alpha$?"
   ]
  },
  {
   "cell_type": "markdown",
   "metadata": {},
   "source": [
    "**Answer:**"
   ]
  },
  {
   "cell_type": "markdown",
   "metadata": {},
   "source": [
    "### Exercise 3 - partial LS\n",
    "Lets consider a model\n",
    "\n",
    "$$\n",
    "y_n = \\alpha_1 x_{1n} + \\alpha_2 x_{2n} + \\epsilon_n\n",
    "$$\n",
    "\n",
    "with $\\alpha_1 = \\alpha_2 = 1$ and $\\epsilon_n \\sim \\mathcal N(0, 1)$."
   ]
  },
  {
   "cell_type": "markdown",
   "metadata": {},
   "source": [
    "#### 3.1\n",
    "Generate a sample of $Y$ for (a) $X_1$ and $X_2$ independent: $X \\sim \\mathcal N(0, I_2)$, (b) for $X_1$ and $X_2$ dependent: $X \\sim \\mathcal N(0, \\Sigma)$ for $\\Sigma = [1, \\rho; \\rho, 1]$, $\\rho = 0.6$."
   ]
  },
  {
   "cell_type": "markdown",
   "metadata": {},
   "source": [
    "**Answer:**"
   ]
  },
  {
   "cell_type": "markdown",
   "metadata": {},
   "source": [
    "#### 3.2\n",
    "Estimate the parameter $\\alpha_1$ in the true model: $y_n = \\alpha_1 x_{1n} + \\alpha_2 x_{2n} + \\epsilon_n$ and a corresponding parameter $\\beta$ in a miss-specified model: $y_n = \\beta x_{1n} + u_n$."
   ]
  },
  {
   "cell_type": "markdown",
   "metadata": {},
   "source": [
    "**Answer:**"
   ]
  },
  {
   "cell_type": "markdown",
   "metadata": {},
   "source": [
    "#### 3.3\n",
    "Compare the true value of $\\alpha_1$ with its estimators: $\\hat\\alpha_1$ and $\\hat\\beta$ for two cases (a) and (b) and different sample sizes: $N=10$, $100$ and $1000$."
   ]
  },
  {
   "cell_type": "markdown",
   "metadata": {},
   "source": [
    "**Answer:**"
   ]
  },
  {
   "cell_type": "markdown",
   "metadata": {},
   "source": [
    "#### 3.4\n",
    "What can you say about consistency of the estimators? Why in one case the estimator $\\hat\\beta$ is consistent and in other case not? Comment."
   ]
  },
  {
   "cell_type": "markdown",
   "metadata": {},
   "source": [
    "**Answer:**"
   ]
  },
  {
   "cell_type": "markdown",
   "metadata": {},
   "source": [
    "#### 3.5\n",
    "Compare the true value of $\\alpha_1$ with its estimators: $\\hat\\alpha_1$ and $\\hat\\beta$ for $N = 1000$ and different correlation levels (defined at the beginning oof this exercise): $\\rho = 0.3$, $0.6$ and $0.9$."
   ]
  },
  {
   "cell_type": "markdown",
   "metadata": {},
   "source": [
    "**Answer:**"
   ]
  },
  {
   "cell_type": "markdown",
   "metadata": {
    "hideOutput": true
   },
   "source": []
  },
  {
   "cell_type": "markdown",
   "metadata": {
    "hideOutput": true
   },
   "source": []
  },
  {
   "cell_type": "markdown",
   "metadata": {},
   "source": [
    "# Coding sandbox"
   ]
  },
  {
   "cell_type": "code",
   "execution_count": 23,
   "metadata": {},
   "outputs": [],
   "source": [
    "import numpy as np\n",
    "import matplotlib\n",
    "import matplotlib.pyplot as plt\n",
    "import pandas as pd"
   ]
  },
  {
   "cell_type": "code",
   "execution_count": 24,
   "metadata": {},
   "outputs": [],
   "source": [
    "matplotlib.rcParams['figure.figsize'] = [10, 10]"
   ]
  },
  {
   "cell_type": "code",
   "execution_count": 7,
   "metadata": {},
   "outputs": [],
   "source": [
    "df = pd.read_excel('data_lab_2.xlsx', header=None)"
   ]
  },
  {
   "cell_type": "code",
   "execution_count": 8,
   "metadata": {},
   "outputs": [
    {
     "data": {
      "text/plain": [
       "(100, 4)"
      ]
     },
     "execution_count": 8,
     "metadata": {},
     "output_type": "execute_result"
    }
   ],
   "source": [
    "df.shape"
   ]
  },
  {
   "cell_type": "code",
   "execution_count": 10,
   "metadata": {},
   "outputs": [],
   "source": [
    "df.columns = [\"Y\", \"X1\", \"X2\", \"X3\"]"
   ]
  },
  {
   "cell_type": "code",
   "execution_count": 11,
   "metadata": {
    "scrolled": true
   },
   "outputs": [
    {
     "data": {
      "text/html": [
       "<div>\n",
       "<style scoped>\n",
       "    .dataframe tbody tr th:only-of-type {\n",
       "        vertical-align: middle;\n",
       "    }\n",
       "\n",
       "    .dataframe tbody tr th {\n",
       "        vertical-align: top;\n",
       "    }\n",
       "\n",
       "    .dataframe thead th {\n",
       "        text-align: right;\n",
       "    }\n",
       "</style>\n",
       "<table border=\"1\" class=\"dataframe\">\n",
       "  <thead>\n",
       "    <tr style=\"text-align: right;\">\n",
       "      <th></th>\n",
       "      <th>Y</th>\n",
       "      <th>X1</th>\n",
       "      <th>X2</th>\n",
       "      <th>X3</th>\n",
       "    </tr>\n",
       "  </thead>\n",
       "  <tbody>\n",
       "    <tr>\n",
       "      <td>0</td>\n",
       "      <td>8.301069</td>\n",
       "      <td>1.255952</td>\n",
       "      <td>4.007507</td>\n",
       "      <td>2.134730</td>\n",
       "    </tr>\n",
       "    <tr>\n",
       "      <td>1</td>\n",
       "      <td>13.394371</td>\n",
       "      <td>2.695934</td>\n",
       "      <td>3.754338</td>\n",
       "      <td>4.092859</td>\n",
       "    </tr>\n",
       "    <tr>\n",
       "      <td>2</td>\n",
       "      <td>13.841512</td>\n",
       "      <td>4.220832</td>\n",
       "      <td>3.336009</td>\n",
       "      <td>3.163189</td>\n",
       "    </tr>\n",
       "    <tr>\n",
       "      <td>3</td>\n",
       "      <td>13.633060</td>\n",
       "      <td>2.002327</td>\n",
       "      <td>5.399626</td>\n",
       "      <td>4.052547</td>\n",
       "    </tr>\n",
       "    <tr>\n",
       "      <td>4</td>\n",
       "      <td>13.214946</td>\n",
       "      <td>3.134454</td>\n",
       "      <td>4.915782</td>\n",
       "      <td>1.429284</td>\n",
       "    </tr>\n",
       "  </tbody>\n",
       "</table>\n",
       "</div>"
      ],
      "text/plain": [
       "           Y        X1        X2        X3\n",
       "0   8.301069  1.255952  4.007507  2.134730\n",
       "1  13.394371  2.695934  3.754338  4.092859\n",
       "2  13.841512  4.220832  3.336009  3.163189\n",
       "3  13.633060  2.002327  5.399626  4.052547\n",
       "4  13.214946  3.134454  4.915782  1.429284"
      ]
     },
     "execution_count": 11,
     "metadata": {},
     "output_type": "execute_result"
    }
   ],
   "source": [
    "df.head()"
   ]
  },
  {
   "cell_type": "code",
   "execution_count": null,
   "metadata": {},
   "outputs": [],
   "source": []
  },
  {
   "cell_type": "code",
   "execution_count": null,
   "metadata": {},
   "outputs": [],
   "source": []
  },
  {
   "cell_type": "code",
   "execution_count": 29,
   "metadata": {},
   "outputs": [
    {
     "data": {
      "image/png": "[encoded data removed]",
      "text/plain": [
       "<Figure size 720x720 with 3 Axes>"
      ]
     },
     "metadata": {
      "needs_background": "light"
     },
     "output_type": "display_data"
    }
   ],
   "source": [
    "plt.subplot(2, 2, 1)\n",
    "plt.grid(alpha=0.3)\n",
    "plt.plot(df[\"X1\"], df[\"Y\"], 'r.')\n",
    "plt.xlabel(\"$X_1$\")\n",
    "plt.ylabel(\"$Y$\")\n",
    "\n",
    "plt.subplot(2, 2, 2)\n",
    "plt.grid(alpha=0.3)\n",
    "plt.plot(df[\"X2\"], df[\"Y\"], 'r.')\n",
    "plt.xlabel(\"$X_2$\")\n",
    "plt.ylabel(\"$Y$\")\n",
    "\n",
    "plt.subplot(2, 2, 3)\n",
    "plt.grid(alpha=0.3)\n",
    "plt.plot(df[\"X3\"], df[\"Y\"], 'r.')\n",
    "plt.xlabel(\"$X_3$\")\n",
    "plt.ylabel(\"$Y$\")\n",
    "\n",
    "plt.tight_layout()\n",
    "plt.show()"
   ]
  }
 ],
 "metadata": {
  "kernelspec": {
   "display_name": "Python 3",
   "language": "python",
   "name": "python3"
  },
  "language_info": {
   "codemirror_mode": {
    "name": "ipython",
    "version": 3
   },
   "file_extension": ".py",
   "mimetype": "text/x-python",
   "name": "python",
   "nbconvert_exporter": "python",
   "pygments_lexer": "ipython3",
   "version": "3.7.3"
  }
 },
 "nbformat": 4,
 "nbformat_minor": 2
}
