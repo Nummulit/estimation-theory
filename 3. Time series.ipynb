{
 "cells": [
  {
   "cell_type": "code",
   "execution_count": 1,
   "metadata": {},
   "outputs": [],
   "source": [
    "import numpy as np\n",
    "import matplotlib.pyplot as plt"
   ]
  },
  {
   "cell_type": "markdown",
   "metadata": {},
   "source": [
    "### Exercise 1\n",
    "Generate a time series of $20$ observations according to\n",
    "$$\n",
    "y_t = \\alpha + \\epsilon_t\n",
    "$$\n",
    "where $\\epsilon_t \\sim \\mathcal{N}(0, \\sigma^2)$. Choose values of $\\alpha$ and $\\sigma^2$."
   ]
  },
  {
   "cell_type": "code",
   "execution_count": 3,
   "metadata": {},
   "outputs": [],
   "source": [
    "ALPHA = 1\n",
    "SIGMA = 1\n",
    "N = 20"
   ]
  },
  {
   "cell_type": "code",
   "execution_count": 9,
   "metadata": {},
   "outputs": [],
   "source": [
    "epsilon = np.random.normal(loc=0, scale=SIGMA, size=N)\n",
    "y = ALPHA + epsilon"
   ]
  },
  {
   "cell_type": "markdown",
   "metadata": {},
   "source": [
    "**(a)** Write down the density function of a single observation, the likelihood and the log-likelihood for the whole sample, as the function of a parameter vector $\\theta$."
   ]
  },
  {
   "cell_type": "markdown",
   "metadata": {},
   "source": [
    "Since\n",
    "$$\n",
    "\\epsilon_t \\sim \\mathcal{N}(0, \\sigma^2)\n",
    "$$\n",
    "thus\n",
    "$$\n",
    "y_t \\sim \\mathcal{N}(\\alpha, \\sigma^2)\n",
    "\\text.\n",
    "$$\n",
    "So\n",
    "$$\n",
    "f(y_t | \\theta) =\n",
    "\\frac{1}{\\sqrt{2\\pi\\sigma^2}} \\exp\\left\\{ -\\frac{(y_t - \\alpha)^2}{2\\sigma^2} \\right\\}\n",
    "$$\n",
    "Where\n",
    "$$\n",
    "\\theta = [ \\alpha, \\sigma^2 ]^\\intercal\n",
    "$$"
   ]
  }
 ],
 "metadata": {
  "kernelspec": {
   "display_name": "Python 3",
   "language": "python",
   "name": "python3"
  },
  "language_info": {
   "codemirror_mode": {
    "name": "ipython",
    "version": 3
   },
   "file_extension": ".py",
   "mimetype": "text/x-python",
   "name": "python",
   "nbconvert_exporter": "python",
   "pygments_lexer": "ipython3",
   "version": "3.7.3"
  }
 },
 "nbformat": 4,
 "nbformat_minor": 2
}
